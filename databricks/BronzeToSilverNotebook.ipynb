{
 "cells": [
  {
   "cell_type": "code",
   "execution_count": 0,
   "metadata": {
    "application/vnd.databricks.v1+cell": {
     "cellMetadata": {
      "byteLimit": 2048000,
      "rowLimit": 10000
     },
     "inputWidgets": {},
     "nuid": "33536bee-ee2e-4bc6-ad65-0d7fd70b9c12",
     "showTitle": false,
     "tableResultSettingsMap": {},
     "title": ""
    }
   },
   "outputs": [],
   "source": [
    "BLOB_STORAGE_ACCOUNT_NAME = \"pocspirelake\"\n",
    "BLOB_CONTAINER_URL = f\"{BLOB_STORAGE_ACCOUNT_NAME}.blob.core.windows.net\"\n",
    "\n",
    "STORAGE_ACCOUNT_ACCESS_KEY_NAME = f\"fs.azure.account.key.{BLOB_CONTAINER_URL}\"\n",
    "\n",
    "isoRequestLogPath = f\"wasbs://bronze@{BLOB_CONTAINER_URL}/bimrailsdb/iso_request_log.parquet\"\n",
    "# Or for ADLS Gen2:\n",
    "# isoRequestLogPath = f\"abfss://bronze@{BLOB_STORAGE_ACCOUNT_NAME}.dfs.core.windows.net/bimrailsdb/iso_request_log.parquet\"\n",
    "\n",
    "spark.conf.set(STORAGE_ACCOUNT_ACCESS_KEY_NAME, STORAGE_SECRET_ACCESS_KEY_VALUE)\n",
    "\n",
    "# Read the Parquet file with the defined schema\n",
    "df = spark.read.parquet(isoRequestLogPath)\n",
    "print(df.count())\n",
    "#df.display()\n",
    "\n",
    "output_path = f\"wasbs://silver@{BLOB_CONTAINER_URL}/bimrailsdb/iso_request_log.parquet\"\n",
    "df.write.mode('overwrite').parquet(output_path)"
   ]
  }
 ],
 "metadata": {
  "application/vnd.databricks.v1+notebook": {
   "computePreferences": null,
   "dashboards": [],
   "environmentMetadata": {
    "base_environment": "",
    "environment_version": "2"
   },
   "inputWidgetPreferences": null,
   "language": "python",
   "notebookMetadata": {
    "pythonIndentUnit": 4
   },
   "notebookName": "BronzeToSilverNotebook",
   "widgets": {}
  },
  "language_info": {
   "name": "python"
  }
 },
 "nbformat": 4,
 "nbformat_minor": 0
}
